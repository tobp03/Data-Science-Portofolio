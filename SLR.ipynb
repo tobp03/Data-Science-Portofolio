{
  "cells": [
    {
      "cell_type": "markdown",
      "source": [
        "# Isolated Sign Language Recognition with GRU"
      ],
      "metadata": {
        "id": "Jd4AaMkL6I0M"
      },
      "id": "Jd4AaMkL6I0M"
    },
    {
      "cell_type": "markdown",
      "source": [
        "## 1. Import Libraries and define functions"
      ],
      "metadata": {
        "id": "YZxKVQqN6TRT"
      },
      "id": "YZxKVQqN6TRT"
    },
    {
      "cell_type": "code",
      "execution_count": null,
      "id": "f5168ee8",
      "metadata": {
        "id": "f5168ee8"
      },
      "outputs": [],
      "source": [
        "import cv2\n",
        "import numpy as np\n",
        "import os\n",
        "from matplotlib import pyplot as plt\n",
        "import time\n",
        "import mediapipe as mp\n",
        "from sklearn.model_selection import train_test_split\n",
        "from tensorflow.keras.utils import to_categorical\n",
        "from tensorflow.keras.models import Sequential\n",
        "from tensorflow.keras.layers import LSTM, Dense,GRU\n",
        "from tensorflow.keras.callbacks import TensorBoard\n",
        "from tensorflow.keras.models import load_model\n",
        "from sklearn.metrics import multilabel_confusion_matrix, accuracy_score\n",
        "import time"
      ]
    },
    {
      "cell_type": "code",
      "execution_count": null,
      "id": "518954c8",
      "metadata": {
        "id": "518954c8"
      },
      "outputs": [],
      "source": [
        "import numpy as np\n",
        "import pandas as pd\n",
        "import matplotlib.pyplot as plt\n",
        "from sklearn.metrics import confusion_matrix, accuracy_score, classification_report"
      ]
    },
    {
      "cell_type": "code",
      "execution_count": null,
      "id": "e95eef18",
      "metadata": {
        "id": "e95eef18"
      },
      "outputs": [],
      "source": [
        "import matplotlib.pyplot as plt\n",
        "import seaborn as sns"
      ]
    },
    {
      "cell_type": "code",
      "execution_count": null,
      "id": "02adae31",
      "metadata": {
        "id": "02adae31"
      },
      "outputs": [],
      "source": [
        "def draw_landmarks(image, results):\n",
        "    #mp_drawing.draw_landmarks(image, results.face_landmarks, mp_holistic.FACEMESH_TESSELATION) # Draw face connections\n",
        "    mp_drawing.draw_landmarks(image, results.pose_landmarks, mp_holistic.POSE_CONNECTIONS) # Draw pose connections\n",
        "    mp_drawing.draw_landmarks(image, results.left_hand_landmarks, mp_holistic.HAND_CONNECTIONS) # Draw left hand connections\n",
        "    mp_drawing.draw_landmarks(image, results.right_hand_landmarks, mp_holistic.HAND_CONNECTIONS) # Draw right hand connection"
      ]
    },
    {
      "cell_type": "code",
      "execution_count": null,
      "id": "8e0ec07f",
      "metadata": {
        "id": "8e0ec07f"
      },
      "outputs": [],
      "source": [
        "def mediapipe_detection(image, model):\n",
        "    image = cv2.cvtColor(image, cv2.COLOR_BGR2RGB) # COLOR CONVERSION BGR 2 RGB\n",
        "    image.flags.writeable = False                  # Image is no longer writeable\n",
        "    results = model.process(image)                 # Make prediction\n",
        "    image.flags.writeable = True                   # Image is now writeable\n",
        "    image = cv2.cvtColor(image, cv2.COLOR_RGB2BGR) # COLOR COVERSION RGB 2 BGR\n",
        "    return image, results"
      ]
    },
    {
      "cell_type": "code",
      "execution_count": null,
      "id": "6918acaf",
      "metadata": {
        "id": "6918acaf"
      },
      "outputs": [],
      "source": [
        "mp_holistic = mp.solutions.holistic # Holistic model\n",
        "mp_drawing = mp.solutions.drawing_utils # Drawing utilities"
      ]
    },
    {
      "cell_type": "markdown",
      "source": [
        "## 2. Create Video Dataset"
      ],
      "metadata": {
        "id": "XC7-Gnba6YGZ"
      },
      "id": "XC7-Gnba6YGZ"
    },
    {
      "cell_type": "code",
      "execution_count": null,
      "id": "ef11c5ad",
      "metadata": {
        "id": "ef11c5ad"
      },
      "outputs": [],
      "source": [
        "# Path for exported data, numpy arrays\n",
        "DATA_PATH = os.path.join('MP_Data4')\n",
        "\n",
        "# Actions that we try to detect\n",
        "actions = np.array(['hello', 'thanks', 'iloveyou'])\n",
        "\n",
        "# Jumlah video\n",
        "no_sequences = 25\n",
        "\n",
        "# Videos are going to be 30 frames in length\n",
        "sequence_length = 30\n",
        "\n",
        "# Folder start\n",
        "start_folder = 30"
      ]
    },
    {
      "cell_type": "code",
      "execution_count": null,
      "id": "e7036cb2",
      "metadata": {
        "id": "e7036cb2",
        "outputId": "ee9e5bd0-0082-419d-8e65-e13c1efc8405"
      },
      "outputs": [
        {
          "ename": "FileExistsError",
          "evalue": "[WinError 183] Cannot create a file when that file already exists: 'C:/Users/Toby/Documents/kuliah/Skripsi\\\\MP_Data4'",
          "output_type": "error",
          "traceback": [
            "\u001b[1;31m---------------------------------------------------------------------------\u001b[0m",
            "\u001b[1;31mFileExistsError\u001b[0m                           Traceback (most recent call last)",
            "Cell \u001b[1;32mIn[51], line 3\u001b[0m\n\u001b[0;32m      1\u001b[0m DATA_PATH \u001b[38;5;241m=\u001b[39m \u001b[38;5;124m'\u001b[39m\u001b[38;5;124mC:/Users/Toby/Documents/kuliah/Skripsi\u001b[39m\u001b[38;5;124m'\u001b[39m\n\u001b[0;32m      2\u001b[0m path \u001b[38;5;241m=\u001b[39m os\u001b[38;5;241m.\u001b[39mpath\u001b[38;5;241m.\u001b[39mjoin(DATA_PATH, \u001b[38;5;124m'\u001b[39m\u001b[38;5;124mMP_Data4\u001b[39m\u001b[38;5;124m'\u001b[39m)\n\u001b[1;32m----> 3\u001b[0m os\u001b[38;5;241m.\u001b[39mmkdir(path)\n",
            "\u001b[1;31mFileExistsError\u001b[0m: [WinError 183] Cannot create a file when that file already exists: 'C:/Users/Toby/Documents/kuliah/Skripsi\\\\MP_Data4'"
          ]
        }
      ],
      "source": [
        "DATA_PATH = 'C:/Users/Toby/Documents/kuliah/Skripsi'\n",
        "path = os.path.join(DATA_PATH, 'MP_Data4')\n",
        "os.mkdir(path)"
      ]
    },
    {
      "cell_type": "code",
      "execution_count": null,
      "id": "45de8e3d",
      "metadata": {
        "id": "45de8e3d",
        "outputId": "40a87850-6082-44b9-ae8b-08e144ebb2e7"
      },
      "outputs": [
        {
          "name": "stdout",
          "output_type": "stream",
          "text": [
            "error untuk hello\n",
            "error untuk thanks\n",
            "error untuk iloveyou\n"
          ]
        }
      ],
      "source": [
        "path = os.path.join(DATA_PATH, 'MP_Data4')\n",
        "for action in actions:\n",
        "    try:\n",
        "        path1 = os.path.join(path, str(action))\n",
        "        os.mkdir(path1)\n",
        "    except:\n",
        "        print(f'error untuk {action}')\n",
        "        pass\n"
      ]
    },
    {
      "cell_type": "code",
      "execution_count": null,
      "id": "46722455",
      "metadata": {
        "id": "46722455",
        "outputId": "6f8d6d7a-8272-4123-dff3-952eb6dc4585"
      },
      "outputs": [
        {
          "name": "stdout",
          "output_type": "stream",
          "text": [
            "aksi : hello , video 0: Processing time 2.99 seconds\n",
            "aksi : hello , video 1: Processing time 0.97 seconds\n",
            "aksi : hello , video 2: Processing time 0.96 seconds\n",
            "aksi : hello , video 3: Processing time 0.93 seconds\n",
            "aksi : hello , video 4: Processing time 0.95 seconds\n",
            "aksi : hello , video 5: Processing time 0.92 seconds\n",
            "aksi : hello , video 6: Processing time 0.96 seconds\n",
            "aksi : hello , video 7: Processing time 0.97 seconds\n",
            "aksi : hello , video 8: Processing time 0.96 seconds\n",
            "aksi : hello , video 9: Processing time 0.93 seconds\n",
            "aksi : hello , video 10: Processing time 0.94 seconds\n",
            "aksi : hello , video 11: Processing time 0.87 seconds\n",
            "aksi : hello , video 12: Processing time 0.94 seconds\n",
            "aksi : hello , video 13: Processing time 0.94 seconds\n",
            "aksi : hello , video 14: Processing time 0.93 seconds\n",
            "aksi : hello , video 15: Processing time 0.93 seconds\n",
            "aksi : hello , video 16: Processing time 0.93 seconds\n",
            "aksi : hello , video 17: Processing time 0.94 seconds\n",
            "aksi : hello , video 18: Processing time 0.92 seconds\n",
            "aksi : hello , video 19: Processing time 0.98 seconds\n",
            "aksi : hello , video 20: Processing time 1.00 seconds\n",
            "aksi : hello , video 21: Processing time 0.93 seconds\n",
            "aksi : hello , video 22: Processing time 0.95 seconds\n",
            "aksi : hello , video 23: Processing time 0.93 seconds\n",
            "aksi : hello , video 24: Processing time 0.95 seconds\n",
            "aksi : thanks , video 0: Processing time 0.93 seconds\n",
            "aksi : thanks , video 1: Processing time 0.97 seconds\n",
            "aksi : thanks , video 2: Processing time 0.94 seconds\n",
            "aksi : thanks , video 3: Processing time 0.95 seconds\n",
            "aksi : thanks , video 4: Processing time 0.91 seconds\n",
            "aksi : thanks , video 5: Processing time 0.95 seconds\n",
            "aksi : thanks , video 6: Processing time 0.96 seconds\n",
            "aksi : thanks , video 7: Processing time 0.95 seconds\n",
            "aksi : thanks , video 8: Processing time 0.92 seconds\n",
            "aksi : thanks , video 9: Processing time 0.95 seconds\n",
            "aksi : thanks , video 10: Processing time 0.93 seconds\n",
            "aksi : thanks , video 11: Processing time 0.97 seconds\n",
            "aksi : thanks , video 12: Processing time 0.86 seconds\n",
            "aksi : thanks , video 13: Processing time 0.91 seconds\n",
            "aksi : thanks , video 14: Processing time 0.93 seconds\n",
            "aksi : thanks , video 15: Processing time 0.86 seconds\n",
            "aksi : thanks , video 16: Processing time 0.97 seconds\n",
            "aksi : thanks , video 17: Processing time 0.97 seconds\n",
            "aksi : thanks , video 18: Processing time 0.97 seconds\n",
            "aksi : thanks , video 19: Processing time 0.99 seconds\n",
            "aksi : thanks , video 20: Processing time 0.92 seconds\n",
            "aksi : thanks , video 21: Processing time 0.96 seconds\n",
            "aksi : thanks , video 22: Processing time 0.95 seconds\n",
            "aksi : thanks , video 23: Processing time 0.97 seconds\n",
            "aksi : thanks , video 24: Processing time 0.91 seconds\n",
            "aksi : iloveyou , video 0: Processing time 0.95 seconds\n",
            "aksi : iloveyou , video 1: Processing time 0.94 seconds\n",
            "aksi : iloveyou , video 2: Processing time 0.94 seconds\n",
            "aksi : iloveyou , video 3: Processing time 0.94 seconds\n",
            "aksi : iloveyou , video 4: Processing time 0.95 seconds\n",
            "aksi : iloveyou , video 5: Processing time 0.94 seconds\n",
            "aksi : iloveyou , video 6: Processing time 0.94 seconds\n",
            "aksi : iloveyou , video 7: Processing time 0.95 seconds\n",
            "aksi : iloveyou , video 8: Processing time 0.95 seconds\n",
            "aksi : iloveyou , video 9: Processing time 1.00 seconds\n",
            "aksi : iloveyou , video 10: Processing time 0.92 seconds\n",
            "aksi : iloveyou , video 11: Processing time 0.95 seconds\n",
            "aksi : iloveyou , video 12: Processing time 0.94 seconds\n",
            "aksi : iloveyou , video 13: Processing time 0.94 seconds\n",
            "aksi : iloveyou , video 14: Processing time 0.94 seconds\n",
            "aksi : iloveyou , video 15: Processing time 0.98 seconds\n",
            "aksi : iloveyou , video 16: Processing time 0.93 seconds\n",
            "aksi : iloveyou , video 17: Processing time 0.91 seconds\n",
            "aksi : iloveyou , video 18: Processing time 0.90 seconds\n",
            "aksi : iloveyou , video 19: Processing time 0.94 seconds\n",
            "aksi : iloveyou , video 20: Processing time 0.96 seconds\n",
            "aksi : iloveyou , video 21: Processing time 0.97 seconds\n",
            "aksi : iloveyou , video 22: Processing time 0.93 seconds\n",
            "aksi : iloveyou , video 23: Processing time 0.97 seconds\n",
            "aksi : iloveyou , video 24: Processing time 0.94 seconds\n"
          ]
        }
      ],
      "source": [
        "#Pilih Device webcam dan kemudian set capture size\n",
        "cap = cv2.VideoCapture(1)\n",
        "cap.set(3, 640)\n",
        "cap.set(4, 480)\n",
        "\n",
        "#Bikin list untuk hitung lama video di proses\n",
        "time_list = []\n",
        "\n",
        "\n",
        "fourcc = cv2.VideoWriter_fourcc(*'H264')\n",
        "# Loop through actions\n",
        "for action in actions:\n",
        "    # Loop through sequences aka videos\n",
        "    for sequence in range(no_sequences):\n",
        "        fps = 30\n",
        "        video_size = (640, 480)\n",
        "        file_path = os.path.join(path, action, f'video {action} {sequence}.mp4')\n",
        "        out = cv2.VideoWriter(file_path, fourcc, fps, video_size)\n",
        "        start_time = time.time()\n",
        "\n",
        "        # Loop through video length aka sequence length\n",
        "        for frame_num in range(sequence_length):\n",
        "\n",
        "            # Read feed\n",
        "            ret, frame = cap.read()\n",
        "\n",
        "            out.write(frame)\n",
        "\n",
        "            # NEW Apply wait logic\n",
        "            if frame_num == 0:\n",
        "                cv2.putText(frame, 'STARTING COLLECTION', (120,200),\n",
        "                           cv2.FONT_HERSHEY_SIMPLEX, 1, (0,255, 0), 4, cv2.LINE_AA)\n",
        "                cv2.putText(frame, 'Collecting frames for {} Video Number {}'.format(action, sequence), (15,12),\n",
        "                           cv2.FONT_HERSHEY_SIMPLEX, 0.5, (0, 0, 255), 1, cv2.LINE_AA)\n",
        "                # Show to screen\n",
        "                cv2.imshow('OpenCV Feed', frame)\n",
        "                cv2.waitKey(500)\n",
        "            else:\n",
        "                cv2.putText(frame, 'Collecting frames for {} Video Number {}'.format(action, sequence), (15,12),\n",
        "                           cv2.FONT_HERSHEY_SIMPLEX, 0.5, (0, 0, 255), 1, cv2.LINE_AA)\n",
        "                # Show to screen\n",
        "                cv2.imshow('OpenCV Feed', frame)\n",
        "\n",
        "            if cv2.waitKey(1) & 0xFF == ord('q'):\n",
        "                break\n",
        "\n",
        "        end_time = time.time()\n",
        "        processing_time = end_time-start_time-0.5\n",
        "        time_list.append(f\"aksi : {action} , video {sequence}: Processing time {processing_time:.2f} seconds\")\n",
        "        print(f\"aksi : {action} , video {sequence}: Processing time {processing_time:.2f} seconds\")\n",
        "        out.release()\n",
        "\n",
        "cap.release()\n",
        "cv2.destroyAllWindows()"
      ]
    },
    {
      "cell_type": "code",
      "execution_count": null,
      "id": "73e9b7b4",
      "metadata": {
        "id": "73e9b7b4"
      },
      "outputs": [],
      "source": [
        "cap.release()\n",
        "cv2.destroyAllWindows()"
      ]
    },
    {
      "cell_type": "markdown",
      "source": [
        "## 3. Extract landmarks with MediaPipe Holistic from video"
      ],
      "metadata": {
        "id": "GmOnkIAB6iEu"
      },
      "id": "GmOnkIAB6iEu"
    },
    {
      "cell_type": "code",
      "execution_count": null,
      "id": "0e8c290f",
      "metadata": {
        "id": "0e8c290f"
      },
      "outputs": [],
      "source": [
        "def extract_to_row(results):\n",
        "    pose_features = ['x','y','z','visibility']\n",
        "    hand_features = ['x','y','z']\n",
        "    features= []\n",
        "    values = []\n",
        "    if hasattr(results.pose_landmarks, 'landmark'):\n",
        "        for i,value in enumerate(results.pose_landmarks.landmark):\n",
        "            features.extend([f'pose_x{i}', f'pose_y{i}',f'pose_z{i}',f'pose_vis{i}'])\n",
        "            values.extend([value.x,value.y,value.z,value.visibility])\n",
        "    else:\n",
        "        for i in range(0,33):\n",
        "            features.extend([f'pose_x{i}', f'pose_y{i}',f'pose_z{i}',f'pose_vis{i}'])\n",
        "            values.extend([0,0,0,0])\n",
        "\n",
        "    if hasattr(results.left_hand_landmarks, 'landmark'):\n",
        "        for i,value in enumerate(results.left_hand_landmarks.landmark):\n",
        "            features.extend([f'Lhand_x{i}', f'Lhand_y{i}',f'Lhand_z{i}'])\n",
        "            values.extend([value.x,value.y,value.z])\n",
        "    else:\n",
        "        for i in range(0,21):\n",
        "            features.extend([f'Lhand_x{i}', f'Lhand_y{i}',f'Lhand_z{i}'])\n",
        "            values.extend([0,0,0])\n",
        "\n",
        "\n",
        "    if hasattr(results.right_hand_landmarks, 'landmark'):\n",
        "        for i,value in enumerate(results.right_hand_landmarks.landmark):\n",
        "            features.extend([f'Rhand_x{i}', f'Rhand_y{i}',f'Rhand_z{i}'])\n",
        "            values.extend([value.x,value.y,value.z])\n",
        "    else:\n",
        "        for i in range(0,21):\n",
        "            features.extend([f'Rhand_x{i}', f'Rhand_y{i}',f'Rhand_z{i}'])\n",
        "            values.extend([0,0,0])\n",
        "\n",
        "    data = {feature:values[i] for i,feature in enumerate(features)}\n",
        "    return data\n",
        "\n"
      ]
    },
    {
      "cell_type": "code",
      "execution_count": null,
      "id": "b70de626",
      "metadata": {
        "id": "b70de626"
      },
      "outputs": [],
      "source": [
        "import warnings\n",
        "warnings.filterwarnings('ignore')\n",
        "\n",
        "DATA_PATH = 'C:/Users/Toby/Documents/kuliah/Skripsi'\n",
        "path = os.path.join(DATA_PATH, 'MP_Data4')\n",
        "\n",
        "fourcc = cv2.VideoWriter_fourcc(*'H264')\n",
        "dataframes = []\n",
        "video_titles = []\n",
        "with mp_holistic.Holistic(min_detection_confidence=0.5, min_tracking_confidence=0.5) as holistic:\n",
        "    for action in actions:\n",
        "        for sequence in range(no_sequences):\n",
        "            video_file = os.path.join(path,action, f'video {action} {sequence}.mp4')\n",
        "            cap = cv2.VideoCapture(video_file)\n",
        "            fps = 30\n",
        "            video_size = (640, 480)\n",
        "            file_path = os.path.join(path, action, f'video {action} {sequence} landmarked.mp4')\n",
        "            out = cv2.VideoWriter(file_path, fourcc, fps, video_size)\n",
        "            video_df = pd.DataFrame()\n",
        "            for frame_num in range(sequence_length):\n",
        "                # Read feed\n",
        "                ret, frame = cap.read()\n",
        "                # Make detections\n",
        "                image, results = mediapipe_detection(frame, holistic)\n",
        "\n",
        "                # Draw landmarks\n",
        "                draw_landmarks(image, results)\n",
        "\n",
        "                out.write(image)\n",
        "                #cv2.imshow('OpenCV Feed', image)\n",
        "\n",
        "                # NEW Export keypoints\n",
        "                frame_data = extract_to_row(results)\n",
        "                video_df = video_df.append([frame_data])\n",
        "                # Break gracefully\n",
        "                if cv2.waitKey(10) & 0xFF == ord('q'):\n",
        "                    break\n",
        "            out.release()\n",
        "            dataframes.append(video_df.reset_index(drop=True))\n",
        "            video_titles.append(f'{action}_{sequence}')\n",
        "\n",
        "    cap.release()\n",
        "    cv2.destroyAllWindows()\n",
        "\n",
        "result_df = pd.concat(dataframes,keys=video_titles)"
      ]
    },
    {
      "cell_type": "code",
      "execution_count": null,
      "id": "c0ee0846",
      "metadata": {
        "scrolled": true,
        "id": "c0ee0846",
        "outputId": "8e97bf37-8462-4416-8a70-ff9e420fbdbc"
      },
      "outputs": [
        {
          "data": {
            "text/html": [
              "<div>\n",
              "<style scoped>\n",
              "    .dataframe tbody tr th:only-of-type {\n",
              "        vertical-align: middle;\n",
              "    }\n",
              "\n",
              "    .dataframe tbody tr th {\n",
              "        vertical-align: top;\n",
              "    }\n",
              "\n",
              "    .dataframe thead th {\n",
              "        text-align: right;\n",
              "    }\n",
              "</style>\n",
              "<table border=\"1\" class=\"dataframe\">\n",
              "  <thead>\n",
              "    <tr style=\"text-align: right;\">\n",
              "      <th></th>\n",
              "      <th>level_0</th>\n",
              "      <th>level_1</th>\n",
              "      <th>pose_x0</th>\n",
              "      <th>pose_y0</th>\n",
              "      <th>pose_z0</th>\n",
              "      <th>pose_vis0</th>\n",
              "      <th>pose_x1</th>\n",
              "      <th>pose_y1</th>\n",
              "      <th>pose_z1</th>\n",
              "      <th>pose_vis1</th>\n",
              "      <th>...</th>\n",
              "      <th>Rhand_z17</th>\n",
              "      <th>Rhand_x18</th>\n",
              "      <th>Rhand_y18</th>\n",
              "      <th>Rhand_z18</th>\n",
              "      <th>Rhand_x19</th>\n",
              "      <th>Rhand_y19</th>\n",
              "      <th>Rhand_z19</th>\n",
              "      <th>Rhand_x20</th>\n",
              "      <th>Rhand_y20</th>\n",
              "      <th>Rhand_z20</th>\n",
              "    </tr>\n",
              "  </thead>\n",
              "  <tbody>\n",
              "    <tr>\n",
              "      <th>0</th>\n",
              "      <td>hello_0</td>\n",
              "      <td>0</td>\n",
              "      <td>0.501052</td>\n",
              "      <td>0.420169</td>\n",
              "      <td>-0.712623</td>\n",
              "      <td>0.999916</td>\n",
              "      <td>0.533753</td>\n",
              "      <td>0.362733</td>\n",
              "      <td>-0.661104</td>\n",
              "      <td>0.999805</td>\n",
              "      <td>...</td>\n",
              "      <td>0.004770</td>\n",
              "      <td>0.264227</td>\n",
              "      <td>0.335866</td>\n",
              "      <td>0.003623</td>\n",
              "      <td>0.282475</td>\n",
              "      <td>0.327549</td>\n",
              "      <td>0.007007</td>\n",
              "      <td>0.297263</td>\n",
              "      <td>0.327530</td>\n",
              "      <td>0.009893</td>\n",
              "    </tr>\n",
              "    <tr>\n",
              "      <th>1</th>\n",
              "      <td>hello_0</td>\n",
              "      <td>1</td>\n",
              "      <td>0.501066</td>\n",
              "      <td>0.422809</td>\n",
              "      <td>-0.728364</td>\n",
              "      <td>0.999919</td>\n",
              "      <td>0.533666</td>\n",
              "      <td>0.363798</td>\n",
              "      <td>-0.685645</td>\n",
              "      <td>0.999808</td>\n",
              "      <td>...</td>\n",
              "      <td>-0.036860</td>\n",
              "      <td>0.204077</td>\n",
              "      <td>0.487396</td>\n",
              "      <td>-0.057683</td>\n",
              "      <td>0.224089</td>\n",
              "      <td>0.505290</td>\n",
              "      <td>-0.062770</td>\n",
              "      <td>0.237835</td>\n",
              "      <td>0.533397</td>\n",
              "      <td>-0.062220</td>\n",
              "    </tr>\n",
              "    <tr>\n",
              "      <th>2</th>\n",
              "      <td>hello_0</td>\n",
              "      <td>2</td>\n",
              "      <td>0.501294</td>\n",
              "      <td>0.423872</td>\n",
              "      <td>-0.713810</td>\n",
              "      <td>0.999924</td>\n",
              "      <td>0.533650</td>\n",
              "      <td>0.364250</td>\n",
              "      <td>-0.671955</td>\n",
              "      <td>0.999818</td>\n",
              "      <td>...</td>\n",
              "      <td>-0.030658</td>\n",
              "      <td>0.207007</td>\n",
              "      <td>0.492410</td>\n",
              "      <td>-0.051859</td>\n",
              "      <td>0.226314</td>\n",
              "      <td>0.513592</td>\n",
              "      <td>-0.054240</td>\n",
              "      <td>0.239460</td>\n",
              "      <td>0.540915</td>\n",
              "      <td>-0.050289</td>\n",
              "    </tr>\n",
              "    <tr>\n",
              "      <th>3</th>\n",
              "      <td>hello_0</td>\n",
              "      <td>3</td>\n",
              "      <td>0.501525</td>\n",
              "      <td>0.424209</td>\n",
              "      <td>-0.712394</td>\n",
              "      <td>0.999928</td>\n",
              "      <td>0.533642</td>\n",
              "      <td>0.364346</td>\n",
              "      <td>-0.670316</td>\n",
              "      <td>0.999824</td>\n",
              "      <td>...</td>\n",
              "      <td>-0.030647</td>\n",
              "      <td>0.207112</td>\n",
              "      <td>0.491271</td>\n",
              "      <td>-0.051757</td>\n",
              "      <td>0.226279</td>\n",
              "      <td>0.513971</td>\n",
              "      <td>-0.053678</td>\n",
              "      <td>0.238743</td>\n",
              "      <td>0.542686</td>\n",
              "      <td>-0.049404</td>\n",
              "    </tr>\n",
              "    <tr>\n",
              "      <th>4</th>\n",
              "      <td>hello_0</td>\n",
              "      <td>4</td>\n",
              "      <td>0.501666</td>\n",
              "      <td>0.424366</td>\n",
              "      <td>-0.707118</td>\n",
              "      <td>0.999931</td>\n",
              "      <td>0.533649</td>\n",
              "      <td>0.364371</td>\n",
              "      <td>-0.664124</td>\n",
              "      <td>0.999831</td>\n",
              "      <td>...</td>\n",
              "      <td>-0.030727</td>\n",
              "      <td>0.207370</td>\n",
              "      <td>0.493229</td>\n",
              "      <td>-0.051905</td>\n",
              "      <td>0.226390</td>\n",
              "      <td>0.515438</td>\n",
              "      <td>-0.053923</td>\n",
              "      <td>0.239211</td>\n",
              "      <td>0.543826</td>\n",
              "      <td>-0.049581</td>\n",
              "    </tr>\n",
              "    <tr>\n",
              "      <th>...</th>\n",
              "      <td>...</td>\n",
              "      <td>...</td>\n",
              "      <td>...</td>\n",
              "      <td>...</td>\n",
              "      <td>...</td>\n",
              "      <td>...</td>\n",
              "      <td>...</td>\n",
              "      <td>...</td>\n",
              "      <td>...</td>\n",
              "      <td>...</td>\n",
              "      <td>...</td>\n",
              "      <td>...</td>\n",
              "      <td>...</td>\n",
              "      <td>...</td>\n",
              "      <td>...</td>\n",
              "      <td>...</td>\n",
              "      <td>...</td>\n",
              "      <td>...</td>\n",
              "      <td>...</td>\n",
              "      <td>...</td>\n",
              "      <td>...</td>\n",
              "    </tr>\n",
              "    <tr>\n",
              "      <th>2245</th>\n",
              "      <td>iloveyou_24</td>\n",
              "      <td>25</td>\n",
              "      <td>0.482125</td>\n",
              "      <td>0.448265</td>\n",
              "      <td>-0.684487</td>\n",
              "      <td>0.999800</td>\n",
              "      <td>0.503916</td>\n",
              "      <td>0.392895</td>\n",
              "      <td>-0.651611</td>\n",
              "      <td>0.999559</td>\n",
              "      <td>...</td>\n",
              "      <td>-0.012645</td>\n",
              "      <td>0.290051</td>\n",
              "      <td>0.586026</td>\n",
              "      <td>-0.025537</td>\n",
              "      <td>0.296172</td>\n",
              "      <td>0.558159</td>\n",
              "      <td>-0.025089</td>\n",
              "      <td>0.304245</td>\n",
              "      <td>0.532749</td>\n",
              "      <td>-0.020339</td>\n",
              "    </tr>\n",
              "    <tr>\n",
              "      <th>2246</th>\n",
              "      <td>iloveyou_24</td>\n",
              "      <td>26</td>\n",
              "      <td>0.482244</td>\n",
              "      <td>0.448325</td>\n",
              "      <td>-0.672828</td>\n",
              "      <td>0.999789</td>\n",
              "      <td>0.504110</td>\n",
              "      <td>0.392880</td>\n",
              "      <td>-0.640097</td>\n",
              "      <td>0.999538</td>\n",
              "      <td>...</td>\n",
              "      <td>-0.012304</td>\n",
              "      <td>0.289809</td>\n",
              "      <td>0.585582</td>\n",
              "      <td>-0.025345</td>\n",
              "      <td>0.295928</td>\n",
              "      <td>0.557821</td>\n",
              "      <td>-0.024768</td>\n",
              "      <td>0.304018</td>\n",
              "      <td>0.532468</td>\n",
              "      <td>-0.019819</td>\n",
              "    </tr>\n",
              "    <tr>\n",
              "      <th>2247</th>\n",
              "      <td>iloveyou_24</td>\n",
              "      <td>27</td>\n",
              "      <td>0.482438</td>\n",
              "      <td>0.448528</td>\n",
              "      <td>-0.650273</td>\n",
              "      <td>0.999782</td>\n",
              "      <td>0.504379</td>\n",
              "      <td>0.392907</td>\n",
              "      <td>-0.617301</td>\n",
              "      <td>0.999523</td>\n",
              "      <td>...</td>\n",
              "      <td>-0.012127</td>\n",
              "      <td>0.289798</td>\n",
              "      <td>0.585375</td>\n",
              "      <td>-0.025155</td>\n",
              "      <td>0.295871</td>\n",
              "      <td>0.557557</td>\n",
              "      <td>-0.024591</td>\n",
              "      <td>0.303956</td>\n",
              "      <td>0.532163</td>\n",
              "      <td>-0.019678</td>\n",
              "    </tr>\n",
              "    <tr>\n",
              "      <th>2248</th>\n",
              "      <td>iloveyou_24</td>\n",
              "      <td>28</td>\n",
              "      <td>0.484730</td>\n",
              "      <td>0.451506</td>\n",
              "      <td>-0.693505</td>\n",
              "      <td>0.999759</td>\n",
              "      <td>0.506482</td>\n",
              "      <td>0.394640</td>\n",
              "      <td>-0.658996</td>\n",
              "      <td>0.999462</td>\n",
              "      <td>...</td>\n",
              "      <td>-0.012261</td>\n",
              "      <td>0.295441</td>\n",
              "      <td>0.577266</td>\n",
              "      <td>-0.024803</td>\n",
              "      <td>0.301520</td>\n",
              "      <td>0.548118</td>\n",
              "      <td>-0.024383</td>\n",
              "      <td>0.309361</td>\n",
              "      <td>0.521698</td>\n",
              "      <td>-0.019788</td>\n",
              "    </tr>\n",
              "    <tr>\n",
              "      <th>2249</th>\n",
              "      <td>iloveyou_24</td>\n",
              "      <td>29</td>\n",
              "      <td>0.486046</td>\n",
              "      <td>0.452847</td>\n",
              "      <td>-0.695424</td>\n",
              "      <td>0.999742</td>\n",
              "      <td>0.507751</td>\n",
              "      <td>0.395375</td>\n",
              "      <td>-0.660661</td>\n",
              "      <td>0.999416</td>\n",
              "      <td>...</td>\n",
              "      <td>-0.012054</td>\n",
              "      <td>0.295397</td>\n",
              "      <td>0.576250</td>\n",
              "      <td>-0.024806</td>\n",
              "      <td>0.301810</td>\n",
              "      <td>0.548062</td>\n",
              "      <td>-0.024322</td>\n",
              "      <td>0.309789</td>\n",
              "      <td>0.522385</td>\n",
              "      <td>-0.019489</td>\n",
              "    </tr>\n",
              "  </tbody>\n",
              "</table>\n",
              "<p>2250 rows × 260 columns</p>\n",
              "</div>"
            ],
            "text/plain": [
              "          level_0  level_1   pose_x0   pose_y0   pose_z0  pose_vis0   pose_x1  \\\n",
              "0         hello_0        0  0.501052  0.420169 -0.712623   0.999916  0.533753   \n",
              "1         hello_0        1  0.501066  0.422809 -0.728364   0.999919  0.533666   \n",
              "2         hello_0        2  0.501294  0.423872 -0.713810   0.999924  0.533650   \n",
              "3         hello_0        3  0.501525  0.424209 -0.712394   0.999928  0.533642   \n",
              "4         hello_0        4  0.501666  0.424366 -0.707118   0.999931  0.533649   \n",
              "...           ...      ...       ...       ...       ...        ...       ...   \n",
              "2245  iloveyou_24       25  0.482125  0.448265 -0.684487   0.999800  0.503916   \n",
              "2246  iloveyou_24       26  0.482244  0.448325 -0.672828   0.999789  0.504110   \n",
              "2247  iloveyou_24       27  0.482438  0.448528 -0.650273   0.999782  0.504379   \n",
              "2248  iloveyou_24       28  0.484730  0.451506 -0.693505   0.999759  0.506482   \n",
              "2249  iloveyou_24       29  0.486046  0.452847 -0.695424   0.999742  0.507751   \n",
              "\n",
              "       pose_y1   pose_z1  pose_vis1  ...  Rhand_z17  Rhand_x18  Rhand_y18  \\\n",
              "0     0.362733 -0.661104   0.999805  ...   0.004770   0.264227   0.335866   \n",
              "1     0.363798 -0.685645   0.999808  ...  -0.036860   0.204077   0.487396   \n",
              "2     0.364250 -0.671955   0.999818  ...  -0.030658   0.207007   0.492410   \n",
              "3     0.364346 -0.670316   0.999824  ...  -0.030647   0.207112   0.491271   \n",
              "4     0.364371 -0.664124   0.999831  ...  -0.030727   0.207370   0.493229   \n",
              "...        ...       ...        ...  ...        ...        ...        ...   \n",
              "2245  0.392895 -0.651611   0.999559  ...  -0.012645   0.290051   0.586026   \n",
              "2246  0.392880 -0.640097   0.999538  ...  -0.012304   0.289809   0.585582   \n",
              "2247  0.392907 -0.617301   0.999523  ...  -0.012127   0.289798   0.585375   \n",
              "2248  0.394640 -0.658996   0.999462  ...  -0.012261   0.295441   0.577266   \n",
              "2249  0.395375 -0.660661   0.999416  ...  -0.012054   0.295397   0.576250   \n",
              "\n",
              "      Rhand_z18  Rhand_x19  Rhand_y19  Rhand_z19  Rhand_x20  Rhand_y20  \\\n",
              "0      0.003623   0.282475   0.327549   0.007007   0.297263   0.327530   \n",
              "1     -0.057683   0.224089   0.505290  -0.062770   0.237835   0.533397   \n",
              "2     -0.051859   0.226314   0.513592  -0.054240   0.239460   0.540915   \n",
              "3     -0.051757   0.226279   0.513971  -0.053678   0.238743   0.542686   \n",
              "4     -0.051905   0.226390   0.515438  -0.053923   0.239211   0.543826   \n",
              "...         ...        ...        ...        ...        ...        ...   \n",
              "2245  -0.025537   0.296172   0.558159  -0.025089   0.304245   0.532749   \n",
              "2246  -0.025345   0.295928   0.557821  -0.024768   0.304018   0.532468   \n",
              "2247  -0.025155   0.295871   0.557557  -0.024591   0.303956   0.532163   \n",
              "2248  -0.024803   0.301520   0.548118  -0.024383   0.309361   0.521698   \n",
              "2249  -0.024806   0.301810   0.548062  -0.024322   0.309789   0.522385   \n",
              "\n",
              "      Rhand_z20  \n",
              "0      0.009893  \n",
              "1     -0.062220  \n",
              "2     -0.050289  \n",
              "3     -0.049404  \n",
              "4     -0.049581  \n",
              "...         ...  \n",
              "2245  -0.020339  \n",
              "2246  -0.019819  \n",
              "2247  -0.019678  \n",
              "2248  -0.019788  \n",
              "2249  -0.019489  \n",
              "\n",
              "[2250 rows x 260 columns]"
            ]
          },
          "execution_count": 57,
          "metadata": {},
          "output_type": "execute_result"
        }
      ],
      "source": [
        "df_copy = result_df.copy()\n",
        "df_copy = df_copy.reset_index()\n",
        "df_copy.to_csv('dataolah.csv', encoding='utf-8-sig',sep='\\t')\n",
        "df_copy"
      ]
    },
    {
      "cell_type": "markdown",
      "source": [
        "## 4. Create labels and split data into training and testing"
      ],
      "metadata": {
        "id": "0gvSEAKC8BHo"
      },
      "id": "0gvSEAKC8BHo"
    },
    {
      "cell_type": "code",
      "execution_count": null,
      "id": "33d8eb61",
      "metadata": {
        "id": "33d8eb61"
      },
      "outputs": [],
      "source": [
        "df = pd.read_csv('dataolah.csv', delimiter='\\t', encoding='utf-8')\n",
        "label_map = {label:num for num, label in enumerate(actions)}\n",
        "df = df.iloc[:, 1:]"
      ]
    },
    {
      "cell_type": "code",
      "execution_count": null,
      "id": "2acd4743",
      "metadata": {
        "id": "2acd4743",
        "outputId": "9c48e675-a95a-4635-de28-785b264ddf91"
      },
      "outputs": [
        {
          "data": {
            "text/plain": [
              "array([0, 0, 0, 0, 0, 0, 0, 0, 0, 0, 0, 0, 0, 0, 0, 0, 0, 0, 0, 0, 0, 0,\n",
              "       0, 0, 0, 1, 1, 1, 1, 1, 1, 1, 1, 1, 1, 1, 1, 1, 1, 1, 1, 1, 1, 1,\n",
              "       1, 1, 1, 1, 1, 1, 2, 2, 2, 2, 2, 2, 2, 2, 2, 2, 2, 2, 2, 2, 2, 2,\n",
              "       2, 2, 2, 2, 2, 2, 2, 2, 2])"
            ]
          },
          "execution_count": 109,
          "metadata": {},
          "output_type": "execute_result"
        }
      ],
      "source": [
        "temp_df = df.copy()\n",
        "temp_df = temp_df.drop(temp_df.columns[[0,1]],axis=1)\n",
        "reshaped_data = temp_df.values.reshape(len(actions)*(no_sequences),30,258)\n",
        "\n",
        "\n",
        "# Create label data\n",
        "labels = []\n",
        "for i in range(0,len(actions)):\n",
        "    for j in range(0,no_sequences):\n",
        "        labels.append(i)\n",
        "labels =np.array(labels)\n",
        "labels.shape\n",
        "labels\n"
      ]
    },
    {
      "cell_type": "code",
      "execution_count": null,
      "id": "35e4f004",
      "metadata": {
        "id": "35e4f004",
        "outputId": "16e19ccc-0f02-4634-abff-e8c817bb5ec0"
      },
      "outputs": [
        {
          "data": {
            "text/plain": [
              "((60, 30, 258), (60, 3))"
            ]
          },
          "execution_count": 112,
          "metadata": {},
          "output_type": "execute_result"
        }
      ],
      "source": [
        "X = np.array(reshaped_data)\n",
        "y = to_categorical(labels).astype(int)\n",
        "X_train, X_test, y_train, y_test = train_test_split(X, y, test_size=0.2)\n",
        "X_train.shape , y_train.shape"
      ]
    },
    {
      "cell_type": "code",
      "execution_count": null,
      "id": "673eeb2a",
      "metadata": {
        "id": "673eeb2a",
        "outputId": "92b08319-ca0f-4489-9cae-7848c3c10e07"
      },
      "outputs": [
        {
          "data": {
            "text/plain": [
              "((15, 30, 258), (15, 3))"
            ]
          },
          "execution_count": 113,
          "metadata": {},
          "output_type": "execute_result"
        }
      ],
      "source": [
        "X_test.shape , y_test.shape"
      ]
    },
    {
      "cell_type": "markdown",
      "source": [
        "5. Simple model with GRU"
      ],
      "metadata": {
        "id": "oKsXbXwk8MUF"
      },
      "id": "oKsXbXwk8MUF"
    },
    {
      "cell_type": "code",
      "execution_count": null,
      "id": "0f267f39",
      "metadata": {
        "id": "0f267f39"
      },
      "outputs": [],
      "source": [
        "log_dir = os.path.join('Logs')\n",
        "tb_callback = TensorBoard(log_dir=log_dir)\n",
        "model = Sequential()\n",
        "model.add(GRU(64, return_sequences=False, activation='relu', input_shape=(30,258)))\n",
        "model.add(Dense(32, activation='relu'))\n",
        "model.add(Dense(actions.shape[0], activation='softmax')) #Linear -> Softmax\n",
        "model.compile(optimizer='Adam', loss='categorical_crossentropy', metrics=['categorical_accuracy'])"
      ]
    },
    {
      "cell_type": "code",
      "execution_count": null,
      "id": "35b625a0",
      "metadata": {
        "id": "35b625a0",
        "outputId": "4a2229d6-54df-4504-90ad-218cda2f1212"
      },
      "outputs": [
        {
          "name": "stdout",
          "output_type": "stream",
          "text": [
            "Model: \"sequential_3\"\n",
            "_________________________________________________________________\n",
            " Layer (type)                Output Shape              Param #   \n",
            "=================================================================\n",
            " gru_2 (GRU)                 (None, 64)                62208     \n",
            "                                                                 \n",
            " dense_7 (Dense)             (None, 32)                2080      \n",
            "                                                                 \n",
            " dense_8 (Dense)             (None, 3)                 99        \n",
            "                                                                 \n",
            "=================================================================\n",
            "Total params: 64387 (251.51 KB)\n",
            "Trainable params: 64387 (251.51 KB)\n",
            "Non-trainable params: 0 (0.00 Byte)\n",
            "_________________________________________________________________\n"
          ]
        }
      ],
      "source": [
        "model.summary()"
      ]
    },
    {
      "cell_type": "code",
      "execution_count": null,
      "id": "5136fedc",
      "metadata": {
        "id": "5136fedc"
      },
      "outputs": [],
      "source": [
        "model.fit(X_train, y_train,batch_size=4, epochs=1000, callbacks=[tb_callback])"
      ]
    },
    {
      "cell_type": "markdown",
      "source": [
        "## 5. Predictions"
      ],
      "metadata": {
        "id": "ikaiKbh28QRJ"
      },
      "id": "ikaiKbh28QRJ"
    },
    {
      "cell_type": "code",
      "execution_count": null,
      "id": "391d6b3c",
      "metadata": {
        "id": "391d6b3c",
        "outputId": "b246d22c-d539-4475-ee75-2149f5dc964a"
      },
      "outputs": [
        {
          "name": "stdout",
          "output_type": "stream",
          "text": [
            "1/1 [==============================] - 1s 552ms/step\n"
          ]
        },
        {
          "data": {
            "text/plain": [
              "array([[1.3196183e-10, 1.2764864e-09, 1.0000000e+00],\n",
              "       [0.0000000e+00, 1.0000000e+00, 1.5188481e-25],\n",
              "       [9.9999928e-01, 2.3247316e-07, 4.4184830e-07],\n",
              "       [1.0000000e+00, 7.3945135e-11, 1.2680925e-09],\n",
              "       [5.0716176e-10, 3.2350884e-09, 1.0000000e+00],\n",
              "       [2.9845582e-09, 4.7673279e-09, 1.0000000e+00],\n",
              "       [1.8146172e-38, 1.0000000e+00, 7.7587640e-25],\n",
              "       [5.9628996e-11, 1.2228294e-09, 1.0000000e+00],\n",
              "       [2.8348712e-14, 2.9934419e-08, 1.0000000e+00],\n",
              "       [9.9999917e-01, 1.9360009e-08, 7.9957198e-07],\n",
              "       [2.5759247e-05, 7.1943896e-07, 9.9997354e-01],\n",
              "       [1.0000000e+00, 2.5139233e-11, 3.7200392e-11],\n",
              "       [1.0000000e+00, 4.3279984e-11, 1.8642117e-09],\n",
              "       [5.7620391e-11, 1.0981377e-09, 1.0000000e+00],\n",
              "       [0.0000000e+00, 1.0000000e+00, 9.8890552e-28]], dtype=float32)"
            ]
          },
          "execution_count": 119,
          "metadata": {},
          "output_type": "execute_result"
        }
      ],
      "source": [
        "yhat = model.predict(X_test)\n",
        "yhat  #Prediction output"
      ]
    },
    {
      "cell_type": "code",
      "execution_count": null,
      "id": "888a2182",
      "metadata": {
        "id": "888a2182"
      },
      "outputs": [],
      "source": [
        "ytrue = np.argmax(y_test, axis=1).tolist()\n",
        "yhat = np.argmax(yhat, axis=1).tolist()"
      ]
    },
    {
      "cell_type": "code",
      "execution_count": null,
      "id": "d7b7cb1a",
      "metadata": {
        "id": "d7b7cb1a",
        "outputId": "c5456309-29d7-4347-e95e-111e83ec243c"
      },
      "outputs": [
        {
          "data": {
            "text/plain": [
              "0.9333333333333333"
            ]
          },
          "execution_count": 121,
          "metadata": {},
          "output_type": "execute_result"
        }
      ],
      "source": [
        "accuracy_score(ytrue, yhat)"
      ]
    },
    {
      "cell_type": "code",
      "execution_count": null,
      "id": "92e29ad6",
      "metadata": {
        "id": "92e29ad6",
        "outputId": "c77308f6-240a-4675-9965-1cb6b5be683a"
      },
      "outputs": [
        {
          "data": {
            "text/plain": [
              "[2, 1, 0, 0, 2, 2, 1, 2, 2, 0, 0, 0, 0, 2, 1]"
            ]
          },
          "execution_count": 122,
          "metadata": {},
          "output_type": "execute_result"
        }
      ],
      "source": [
        "ytrue"
      ]
    },
    {
      "cell_type": "code",
      "execution_count": null,
      "id": "7ef40db6",
      "metadata": {
        "id": "7ef40db6",
        "outputId": "c19d952c-8b38-4691-bf72-f3a2a25202ce"
      },
      "outputs": [
        {
          "data": {
            "text/plain": [
              "[2, 1, 0, 0, 2, 2, 1, 2, 2, 0, 2, 0, 0, 2, 1]"
            ]
          },
          "execution_count": 123,
          "metadata": {},
          "output_type": "execute_result"
        }
      ],
      "source": [
        "yhat"
      ]
    },
    {
      "cell_type": "code",
      "execution_count": null,
      "id": "15500a38",
      "metadata": {
        "id": "15500a38",
        "outputId": "689d5b88-ae9c-48fc-cd44-0138b2756be7"
      },
      "outputs": [
        {
          "data": {
            "image/png": "[encoded data removed]",
            "text/plain": [
              "<Figure size 800x600 with 2 Axes>"
            ]
          },
          "metadata": {},
          "output_type": "display_data"
        }
      ],
      "source": [
        "conf_matrix = confusion_matrix(ytrue, yhat)\n",
        "class_labels = ['hello', 'thanks', 'iloveyou']\n",
        "\n",
        "plt.figure(figsize=(8, 6))\n",
        "sns.heatmap(conf_matrix, annot=True, cmap='Blues', fmt='d', xticklabels=class_labels, yticklabels=class_labels)\n",
        "plt.xlabel('Predicted')\n",
        "plt.ylabel('True')\n",
        "plt.title('Confusion Matrix')\n",
        "plt.show()"
      ]
    },
    {
      "cell_type": "code",
      "execution_count": null,
      "id": "adc6ca3f",
      "metadata": {
        "id": "adc6ca3f",
        "outputId": "2e39ccc3-6cbe-40de-a0c7-6667f5613d5b"
      },
      "outputs": [
        {
          "name": "stdout",
          "output_type": "stream",
          "text": [
            "              precision    recall  f1-score   support\n",
            "\n",
            "           0       1.00      0.83      0.91         6\n",
            "           1       1.00      1.00      1.00         3\n",
            "           2       0.86      1.00      0.92         6\n",
            "\n",
            "    accuracy                           0.93        15\n",
            "   macro avg       0.95      0.94      0.94        15\n",
            "weighted avg       0.94      0.93      0.93        15\n",
            "\n"
          ]
        }
      ],
      "source": [
        "class_report = classification_report(ytrue, yhat)\n",
        "print(class_report)"
      ]
    }
  ],
  "metadata": {
    "kernelspec": {
      "display_name": "Python 3 (ipykernel)",
      "language": "python",
      "name": "python3"
    },
    "language_info": {
      "codemirror_mode": {
        "name": "ipython",
        "version": 3
      },
      "file_extension": ".py",
      "mimetype": "text/x-python",
      "name": "python",
      "nbconvert_exporter": "python",
      "pygments_lexer": "ipython3",
      "version": "3.11.4"
    },
    "colab": {
      "provenance": []
    }
  },
  "nbformat": 4,
  "nbformat_minor": 5
}